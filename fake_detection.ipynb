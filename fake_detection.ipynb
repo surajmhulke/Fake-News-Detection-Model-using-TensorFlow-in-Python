{
 "cells": [
  {
   "cell_type": "code",
   "execution_count": 3,
   "id": "ef42fb7b",
   "metadata": {},
   "outputs": [
    {
     "ename": "SyntaxError",
     "evalue": "invalid syntax (623908208.py, line 1)",
     "output_type": "error",
     "traceback": [
      "\u001b[1;36m  Cell \u001b[1;32mIn[3], line 1\u001b[1;36m\u001b[0m\n\u001b[1;33m    pip install tensorflow\u001b[0m\n\u001b[1;37m        ^\u001b[0m\n\u001b[1;31mSyntaxError\u001b[0m\u001b[1;31m:\u001b[0m invalid syntax\n"
     ]
    }
   ],
   "source": [
    " \n",
    "import numpy as np \n",
    "import pandas as pd \n",
    "import json \n",
    "import csv \n",
    "import random \n",
    "\n",
    "from tensorflow.keras.preprocessing.text import Tokenizer \n",
    "from tensorflow.keras.preprocessing.sequence import pad_sequences \n",
    "from tensorflow.keras.utils import to_categorical \n",
    "from tensorflow.keras import regularizers \n",
    "\n",
    "import pprint \n",
    "import tensorflow.compat.v1 as tf \n",
    "from tensorflow.python.framework import ops \n",
    "from sklearn.model_selection import train_test_split \n",
    "from sklearn import preprocessing \n",
    "tf.disable_eager_execution() \n",
    "\n",
    "# Reading the data \n",
    "data = pd.read_csv(r\"C:\\Users\\pc\\Downloads\\fake_or_real_news.csv\") \n",
    "data.head() \n"
   ]
  },
  {
   "cell_type": "code",
   "execution_count": null,
   "id": "0a9b85fe",
   "metadata": {},
   "outputs": [],
   "source": [
    "conda create --name tensorflow python=3.5; \n",
    "pip install --ignore-installed --upgrade tensorflow "
   ]
  },
  {
   "cell_type": "code",
   "execution_count": null,
   "id": "50ee8af1",
   "metadata": {},
   "outputs": [],
   "source": [
    "data = data.drop([\"Unnamed: 0\"], axis=1) \n",
    "data.head(5) \n"
   ]
  },
  {
   "cell_type": "code",
   "execution_count": null,
   "id": "b8d758b9",
   "metadata": {},
   "outputs": [],
   "source": [
    "# encoding the labels \n",
    "le = preprocessing.LabelEncoder() \n",
    "le.fit(data['label']) \n",
    "data['label'] = le.transform(data['label']) \n"
   ]
  },
  {
   "cell_type": "code",
   "execution_count": null,
   "id": "edd60f4f",
   "metadata": {},
   "outputs": [],
   "source": [
    "embedding_dim = 50\n",
    "max_length = 54\n",
    "trunc_type = 'post'\n",
    "padding_type = 'post'\n",
    "oov_tok = \"<OOV>\"\n",
    "training_size = 3000\n",
    "test_portion = .1\n"
   ]
  },
  {
   "cell_type": "code",
   "execution_count": null,
   "id": "c299636e",
   "metadata": {},
   "outputs": [],
   "source": [
    "title = [] \n",
    "text = [] \n",
    "labels = [] \n",
    "for x in range(training_size): \n",
    "\ttitle.append(data['title'][x]) \n",
    "\ttext.append(data['text'][x]) \n",
    "\tlabels.append(data['label'][x]) \n"
   ]
  },
  {
   "cell_type": "code",
   "execution_count": null,
   "id": "8fa092c4",
   "metadata": {},
   "outputs": [],
   "source": [
    "tokenizer1 = Tokenizer() \n",
    "tokenizer1.fit_on_texts(title) \n",
    "word_index1 = tokenizer1.word_index \n",
    "vocab_size1 = len(word_index1) \n",
    "sequences1 = tokenizer1.texts_to_sequences(title) \n",
    "padded1 = pad_sequences( \n",
    "\tsequences1, padding=padding_type, truncating=trunc_type) \n",
    "split = int(test_portion * training_size) \n",
    "training_sequences1 = padded1[split:training_size] \n",
    "test_sequences1 = padded1[0:split] \n",
    "test_labels = labels[0:split] \n",
    "training_labels = labels[split:training_size] \n"
   ]
  },
  {
   "cell_type": "code",
   "execution_count": null,
   "id": "10600174",
   "metadata": {},
   "outputs": [],
   "source": [
    "embeddings_index = {} \n",
    "with open('glove.6B.50d.txt') as f: \n",
    "\tfor line in f: \n",
    "\t\tvalues = line.split() \n",
    "\t\tword = values[0] \n",
    "\t\tcoefs = np.asarray(values[1:], dtype='float32') \n",
    "\t\tembeddings_index[word] = coefs \n",
    "\n",
    "# Generating embeddings \n",
    "embeddings_matrix = np.zeros((vocab_size1+1, embedding_dim)) \n",
    "for word, i in word_index1.items(): \n",
    "\tembedding_vector = embeddings_index.get(word) \n",
    "\tif embedding_vector is not None: \n",
    "\t\tembeddings_matrix[i] = embedding_vector \n"
   ]
  },
  {
   "cell_type": "code",
   "execution_count": null,
   "id": "5bf18965",
   "metadata": {},
   "outputs": [],
   "source": [
    "model = tf.keras.Sequential([ \n",
    "\ttf.keras.layers.Embedding(vocab_size1+1, embedding_dim, \n",
    "\t\t\t\t\t\t\tinput_length=max_length, weights=[ \n",
    "\t\t\t\t\t\t\t\tembeddings_matrix], \n",
    "\t\t\t\t\t\t\ttrainable=False), \n",
    "\ttf.keras.layers.Dropout(0.2), \n",
    "\ttf.keras.layers.Conv1D(64, 5, activation='relu'), \n",
    "\ttf.keras.layers.MaxPooling1D(pool_size=4), \n",
    "\ttf.keras.layers.LSTM(64), \n",
    "\ttf.keras.layers.Dense(1, activation='sigmoid') \n",
    "]) \n",
    "model.compile(loss='binary_crossentropy', \n",
    "\t\t\toptimizer='adam', metrics=['accuracy']) \n",
    "model.summary() \n"
   ]
  },
  {
   "cell_type": "code",
   "execution_count": null,
   "id": "d47ee6ce",
   "metadata": {},
   "outputs": [],
   "source": [
    "num_epochs = 50\n",
    "\n",
    "training_padded = np.array(training_sequences1) \n",
    "training_labels = np.array(training_labels) \n",
    "testing_padded = np.array(test_sequences1) \n",
    "testing_labels = np.array(test_labels) \n",
    "\n",
    "history = model.fit(training_padded, training_labels, \n",
    "\t\t\t\t\tepochs=num_epochs, \n",
    "\t\t\t\t\tvalidation_data=(testing_padded, \n",
    "\t\t\t\t\t\t\t\t\ttesting_labels), \n",
    "\t\t\t\t\tverbose=2) \n"
   ]
  },
  {
   "cell_type": "code",
   "execution_count": null,
   "id": "3669ef72",
   "metadata": {},
   "outputs": [],
   "source": [
    "# sample text to check if fake or not \n",
    "X = \"Karry to go to France in gesture of sympathy\"\n",
    "\n",
    "# detection \n",
    "sequences = tokenizer1.texts_to_sequences([X])[0] \n",
    "sequences = pad_sequences([sequences], maxlen=54, \n",
    "\t\t\t\t\t\tpadding=padding_type, \n",
    "\t\t\t\t\t\ttruncating=trunc_type) \n",
    "if(model.predict(sequences, verbose=0)[0][0] >= 0.5): \n",
    "\tprint(\"This news is True\") \n",
    "else: \n",
    "\tprint(\"This news is false\") \n"
   ]
  }
 ],
 "metadata": {
  "kernelspec": {
   "display_name": "Python 3 (ipykernel)",
   "language": "python",
   "name": "python3"
  },
  "language_info": {
   "codemirror_mode": {
    "name": "ipython",
    "version": 3
   },
   "file_extension": ".py",
   "mimetype": "text/x-python",
   "name": "python",
   "nbconvert_exporter": "python",
   "pygments_lexer": "ipython3",
   "version": "3.11.5"
  }
 },
 "nbformat": 4,
 "nbformat_minor": 5
}
